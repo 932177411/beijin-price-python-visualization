{
  "nbformat": 4,
  "nbformat_minor": 0,
  "metadata": {
    "colab": {
      "provenance": []
    },
    "kernelspec": {
      "name": "python3",
      "display_name": "Python 3"
    },
    "language_info": {
      "name": "python"
    }
  },
  "cells": [
    {
      "cell_type": "markdown",
      "source": [
        "# **project2**"
      ],
      "metadata": {
        "id": "MRdDnHuk8oH9"
      }
    },
    {
      "cell_type": "markdown",
      "source": [
        "## **A brief analysis for BeiJin housing price & prediction**"
      ],
      "metadata": {
        "id": "z6TQevnU8S6H"
      }
    },
    {
      "cell_type": "markdown",
      "source": [
        "# **1.1 introduction**"
      ],
      "metadata": {
        "id": "V5yDv7gR9O3w"
      }
    },
    {
      "cell_type": "markdown",
      "source": [
        "This case studies the concentration trend of house type structure/house age/area/suburban time and its impact on the transaction price through the use of Beijing's LinkedIn second-hand house database. The decision tree algorithm of machine learning is introduced to predict the house price, and the model is evaluated and calibrated to get the best prediction of the house price in Beijing.\n",
        "\n",
        "\n",
        "\n",
        "\n",
        "\n",
        "\n"
      ],
      "metadata": {
        "id": "1doPQQX99nZv"
      }
    },
    {
      "cell_type": "code",
      "source": [
        "# This Python 3 environment comes with many helpful analytics libraries installed\n",
        "# It is defined by the kaggle/python docker image: https://github.com/kaggle/docker-python\n",
        "# For example, here's several helpful packages to load in\n",
        "\n",
        "import numpy as np # linear algebra\n",
        "import pandas as pd # data processing, CSV file I/O (e.g. pd.read_csv)\n",
        "pd.plotting.register_matplotlib_converters()\n",
        "import matplotlib.pyplot as plt\n",
        "%matplotlib inline\n",
        "import seaborn as sns\n",
        "# Input data files are available in the \"../input/\" directory.\n",
        "# For example, running this (by clicking run or pressing Shift+Enter) will list all files under the input directory\n",
        "from sklearn.metrics import mean_absolute_error\n",
        "from sklearn.tree import DecisionTreeRegressor\n",
        "import os\n",
        "for dirname, _, filenames in os.walk('/kaggle/input'):\n",
        "    for filename in filenames:\n",
        "        print(os.path.join(dirname, filename))\n",
        "print (\"Set up complete\")\n",
        "# Any results you write to the current directory are saved as output."
      ],
      "metadata": {
        "colab": {
          "base_uri": "https://localhost:8080/"
        },
        "id": "XkgWY6CJ_VbE",
        "outputId": "b10a9623-41e5-4c71-9f94-6f03934a2835"
      },
      "execution_count": null,
      "outputs": [
        {
          "output_type": "stream",
          "name": "stdout",
          "text": [
            "Set up complete\n"
          ]
        }
      ]
    },
    {
      "cell_type": "markdown",
      "source": [
        "# **1.2 Content**"
      ],
      "metadata": {
        "id": "aWcuUyXSA18p"
      }
    },
    {
      "cell_type": "markdown",
      "source": [
        "It includes URL, ID, Lng, Lat, CommunityID, TradeTime, DOM(days on market), Followers, Total price, Price, Square, Living Room, number of Drawing room, Kitchen and Bathroom, Building Type, Construction time. renovation condition, building structure, Ladder ratio( which is the proportion between number of residents on the same floor and number of elevator of ladder. It describes how many ladders a resident have on average), elevator, Property rights for five years（It's related to China restricted purchase of houses policy), Subway, District, Community average price.\n",
        "\n",
        "Most data is traded in 2011-2017, some of them is traded in Jan,2018, and some is even earlier(2010,2009)\n",
        "\n",
        "All the data was fetching from https://bj.lianjia.com/chengjiao."
      ],
      "metadata": {
        "id": "ZcNcezTxA6Hh"
      }
    },
    {
      "cell_type": "code",
      "source": [
        "# database import\n",
        "df = pd.read_csv(\"/content/drive/MyDrive/Colab Notebooks/new.csv.zip\",encoding='gbk')\n",
        "df"
      ],
      "metadata": {
        "id": "dzTrJzPZ_-6I",
        "colab": {
          "base_uri": "https://localhost:8080/",
          "height": 697
        },
        "outputId": "3839acb1-9b14-4f24-93eb-40d7c902fcf8"
      },
      "execution_count": null,
      "outputs": [
        {
          "output_type": "stream",
          "name": "stderr",
          "text": [
            "/usr/local/lib/python3.8/dist-packages/IPython/core/interactiveshell.py:3326: DtypeWarning: Columns (1,11,12,14) have mixed types.Specify dtype option on import or set low_memory=False.\n",
            "  exec(code_obj, self.user_global_ns, self.user_ns)\n"
          ]
        },
        {
          "output_type": "execute_result",
          "data": {
            "text/plain": [
              "                                                      url            id  \\\n",
              "0       https://bj.lianjia.com/chengjiao/101084782030....  101084782030   \n",
              "1       https://bj.lianjia.com/chengjiao/101086012217....  101086012217   \n",
              "2       https://bj.lianjia.com/chengjiao/101086041636....  101086041636   \n",
              "3       https://bj.lianjia.com/chengjiao/101086406841....  101086406841   \n",
              "4       https://bj.lianjia.com/chengjiao/101086920653....  101086920653   \n",
              "...                                                   ...           ...   \n",
              "318846  https://bj.lianjia.com/chengjiao/BJYZ92311192....  BJYZ92311192   \n",
              "318847  https://bj.lianjia.com/chengjiao/BJYZ92320171....  BJYZ92320171   \n",
              "318848  https://bj.lianjia.com/chengjiao/BJYZ92324217....  BJYZ92324217   \n",
              "318849  https://bj.lianjia.com/chengjiao/BJYZ92333313....  BJYZ92333313   \n",
              "318850  https://bj.lianjia.com/chengjiao/BJYZ92363553....  BJYZ92363553   \n",
              "\n",
              "               Lng        Lat            Cid   tradeTime     DOM  followers  \\\n",
              "0       116.475489  40.019520  1111027376244  2016-08-09  1464.0        106   \n",
              "1       116.453917  39.881534  1111027381879  2016-07-28   903.0        126   \n",
              "2       116.561978  39.877145  1111040862969  2016-12-11  1271.0         48   \n",
              "3       116.438010  40.076114  1111043185817  2016-09-30   965.0        138   \n",
              "4       116.428392  39.886229  1111027381174  2016-08-28   927.0        286   \n",
              "...            ...        ...            ...         ...     ...        ...   \n",
              "318846  116.546899  39.755236  1111027377053  2016-06-10     1.0          8   \n",
              "318847  116.497474  39.810115  1111027377957  2016-06-10     NaN          1   \n",
              "318848  116.497256  39.804081  1111027380056  2016-06-05     1.0          2   \n",
              "318849  116.501794  39.799347  1111027377054  2016-06-12     NaN          4   \n",
              "318850  116.497474  39.810115  1111027377957  2016-06-11     1.0          0   \n",
              "\n",
              "        totalPrice  price  ...  buildingType constructionTime  \\\n",
              "0            415.0  31680  ...           1.0             2005   \n",
              "1            575.0  43436  ...           1.0             2004   \n",
              "2           1030.0  52021  ...           4.0             2005   \n",
              "3            297.5  22202  ...           1.0             2008   \n",
              "4            392.0  48396  ...           4.0             1960   \n",
              "...            ...    ...  ...           ...              ...   \n",
              "318846       350.0  20580  ...           4.0             2003   \n",
              "318847       108.8  31006  ...           1.0             2009   \n",
              "318848       359.0  35138  ...           4.0             2000   \n",
              "318849       720.0  40373  ...           4.0             2003   \n",
              "318850       450.0  48675  ...           4.0               未知   \n",
              "\n",
              "       renovationCondition  buildingStructure ladderRatio elevator  \\\n",
              "0                        3                  6       0.217      1.0   \n",
              "1                        4                  6       0.667      1.0   \n",
              "2                        3                  6       0.500      1.0   \n",
              "3                        1                  6       0.273      1.0   \n",
              "4                        2                  2       0.333      0.0   \n",
              "...                    ...                ...         ...      ...   \n",
              "318846                   1                  6       0.333      0.0   \n",
              "318847                   1                  6       0.222      1.0   \n",
              "318848                   3                  6       0.500      1.0   \n",
              "318849                   4                  2       0.500      0.0   \n",
              "318850                   4                  6       1.000      1.0   \n",
              "\n",
              "        fiveYearsProperty subway  district  communityAverage  \n",
              "0                     0.0    1.0         7           56021.0  \n",
              "1                     1.0    0.0         7           71539.0  \n",
              "2                     0.0    0.0         7           48160.0  \n",
              "3                     0.0    0.0         6           51238.0  \n",
              "4                     1.0    1.0         1           62588.0  \n",
              "...                   ...    ...       ...               ...  \n",
              "318846                1.0    0.0         3           36545.0  \n",
              "318847                0.0    1.0         3           54282.0  \n",
              "318848                1.0    0.0         3           46927.0  \n",
              "318849                1.0    0.0         3           54842.0  \n",
              "318850                0.0    1.0         3           54282.0  \n",
              "\n",
              "[318851 rows x 26 columns]"
            ],
            "text/html": [
              "\n",
              "  <div id=\"df-f8aea61d-fad9-4ec7-8700-9c99724832a7\">\n",
              "    <div class=\"colab-df-container\">\n",
              "      <div>\n",
              "<style scoped>\n",
              "    .dataframe tbody tr th:only-of-type {\n",
              "        vertical-align: middle;\n",
              "    }\n",
              "\n",
              "    .dataframe tbody tr th {\n",
              "        vertical-align: top;\n",
              "    }\n",
              "\n",
              "    .dataframe thead th {\n",
              "        text-align: right;\n",
              "    }\n",
              "</style>\n",
              "<table border=\"1\" class=\"dataframe\">\n",
              "  <thead>\n",
              "    <tr style=\"text-align: right;\">\n",
              "      <th></th>\n",
              "      <th>url</th>\n",
              "      <th>id</th>\n",
              "      <th>Lng</th>\n",
              "      <th>Lat</th>\n",
              "      <th>Cid</th>\n",
              "      <th>tradeTime</th>\n",
              "      <th>DOM</th>\n",
              "      <th>followers</th>\n",
              "      <th>totalPrice</th>\n",
              "      <th>price</th>\n",
              "      <th>...</th>\n",
              "      <th>buildingType</th>\n",
              "      <th>constructionTime</th>\n",
              "      <th>renovationCondition</th>\n",
              "      <th>buildingStructure</th>\n",
              "      <th>ladderRatio</th>\n",
              "      <th>elevator</th>\n",
              "      <th>fiveYearsProperty</th>\n",
              "      <th>subway</th>\n",
              "      <th>district</th>\n",
              "      <th>communityAverage</th>\n",
              "    </tr>\n",
              "  </thead>\n",
              "  <tbody>\n",
              "    <tr>\n",
              "      <th>0</th>\n",
              "      <td>https://bj.lianjia.com/chengjiao/101084782030....</td>\n",
              "      <td>101084782030</td>\n",
              "      <td>116.475489</td>\n",
              "      <td>40.019520</td>\n",
              "      <td>1111027376244</td>\n",
              "      <td>2016-08-09</td>\n",
              "      <td>1464.0</td>\n",
              "      <td>106</td>\n",
              "      <td>415.0</td>\n",
              "      <td>31680</td>\n",
              "      <td>...</td>\n",
              "      <td>1.0</td>\n",
              "      <td>2005</td>\n",
              "      <td>3</td>\n",
              "      <td>6</td>\n",
              "      <td>0.217</td>\n",
              "      <td>1.0</td>\n",
              "      <td>0.0</td>\n",
              "      <td>1.0</td>\n",
              "      <td>7</td>\n",
              "      <td>56021.0</td>\n",
              "    </tr>\n",
              "    <tr>\n",
              "      <th>1</th>\n",
              "      <td>https://bj.lianjia.com/chengjiao/101086012217....</td>\n",
              "      <td>101086012217</td>\n",
              "      <td>116.453917</td>\n",
              "      <td>39.881534</td>\n",
              "      <td>1111027381879</td>\n",
              "      <td>2016-07-28</td>\n",
              "      <td>903.0</td>\n",
              "      <td>126</td>\n",
              "      <td>575.0</td>\n",
              "      <td>43436</td>\n",
              "      <td>...</td>\n",
              "      <td>1.0</td>\n",
              "      <td>2004</td>\n",
              "      <td>4</td>\n",
              "      <td>6</td>\n",
              "      <td>0.667</td>\n",
              "      <td>1.0</td>\n",
              "      <td>1.0</td>\n",
              "      <td>0.0</td>\n",
              "      <td>7</td>\n",
              "      <td>71539.0</td>\n",
              "    </tr>\n",
              "    <tr>\n",
              "      <th>2</th>\n",
              "      <td>https://bj.lianjia.com/chengjiao/101086041636....</td>\n",
              "      <td>101086041636</td>\n",
              "      <td>116.561978</td>\n",
              "      <td>39.877145</td>\n",
              "      <td>1111040862969</td>\n",
              "      <td>2016-12-11</td>\n",
              "      <td>1271.0</td>\n",
              "      <td>48</td>\n",
              "      <td>1030.0</td>\n",
              "      <td>52021</td>\n",
              "      <td>...</td>\n",
              "      <td>4.0</td>\n",
              "      <td>2005</td>\n",
              "      <td>3</td>\n",
              "      <td>6</td>\n",
              "      <td>0.500</td>\n",
              "      <td>1.0</td>\n",
              "      <td>0.0</td>\n",
              "      <td>0.0</td>\n",
              "      <td>7</td>\n",
              "      <td>48160.0</td>\n",
              "    </tr>\n",
              "    <tr>\n",
              "      <th>3</th>\n",
              "      <td>https://bj.lianjia.com/chengjiao/101086406841....</td>\n",
              "      <td>101086406841</td>\n",
              "      <td>116.438010</td>\n",
              "      <td>40.076114</td>\n",
              "      <td>1111043185817</td>\n",
              "      <td>2016-09-30</td>\n",
              "      <td>965.0</td>\n",
              "      <td>138</td>\n",
              "      <td>297.5</td>\n",
              "      <td>22202</td>\n",
              "      <td>...</td>\n",
              "      <td>1.0</td>\n",
              "      <td>2008</td>\n",
              "      <td>1</td>\n",
              "      <td>6</td>\n",
              "      <td>0.273</td>\n",
              "      <td>1.0</td>\n",
              "      <td>0.0</td>\n",
              "      <td>0.0</td>\n",
              "      <td>6</td>\n",
              "      <td>51238.0</td>\n",
              "    </tr>\n",
              "    <tr>\n",
              "      <th>4</th>\n",
              "      <td>https://bj.lianjia.com/chengjiao/101086920653....</td>\n",
              "      <td>101086920653</td>\n",
              "      <td>116.428392</td>\n",
              "      <td>39.886229</td>\n",
              "      <td>1111027381174</td>\n",
              "      <td>2016-08-28</td>\n",
              "      <td>927.0</td>\n",
              "      <td>286</td>\n",
              "      <td>392.0</td>\n",
              "      <td>48396</td>\n",
              "      <td>...</td>\n",
              "      <td>4.0</td>\n",
              "      <td>1960</td>\n",
              "      <td>2</td>\n",
              "      <td>2</td>\n",
              "      <td>0.333</td>\n",
              "      <td>0.0</td>\n",
              "      <td>1.0</td>\n",
              "      <td>1.0</td>\n",
              "      <td>1</td>\n",
              "      <td>62588.0</td>\n",
              "    </tr>\n",
              "    <tr>\n",
              "      <th>...</th>\n",
              "      <td>...</td>\n",
              "      <td>...</td>\n",
              "      <td>...</td>\n",
              "      <td>...</td>\n",
              "      <td>...</td>\n",
              "      <td>...</td>\n",
              "      <td>...</td>\n",
              "      <td>...</td>\n",
              "      <td>...</td>\n",
              "      <td>...</td>\n",
              "      <td>...</td>\n",
              "      <td>...</td>\n",
              "      <td>...</td>\n",
              "      <td>...</td>\n",
              "      <td>...</td>\n",
              "      <td>...</td>\n",
              "      <td>...</td>\n",
              "      <td>...</td>\n",
              "      <td>...</td>\n",
              "      <td>...</td>\n",
              "      <td>...</td>\n",
              "    </tr>\n",
              "    <tr>\n",
              "      <th>318846</th>\n",
              "      <td>https://bj.lianjia.com/chengjiao/BJYZ92311192....</td>\n",
              "      <td>BJYZ92311192</td>\n",
              "      <td>116.546899</td>\n",
              "      <td>39.755236</td>\n",
              "      <td>1111027377053</td>\n",
              "      <td>2016-06-10</td>\n",
              "      <td>1.0</td>\n",
              "      <td>8</td>\n",
              "      <td>350.0</td>\n",
              "      <td>20580</td>\n",
              "      <td>...</td>\n",
              "      <td>4.0</td>\n",
              "      <td>2003</td>\n",
              "      <td>1</td>\n",
              "      <td>6</td>\n",
              "      <td>0.333</td>\n",
              "      <td>0.0</td>\n",
              "      <td>1.0</td>\n",
              "      <td>0.0</td>\n",
              "      <td>3</td>\n",
              "      <td>36545.0</td>\n",
              "    </tr>\n",
              "    <tr>\n",
              "      <th>318847</th>\n",
              "      <td>https://bj.lianjia.com/chengjiao/BJYZ92320171....</td>\n",
              "      <td>BJYZ92320171</td>\n",
              "      <td>116.497474</td>\n",
              "      <td>39.810115</td>\n",
              "      <td>1111027377957</td>\n",
              "      <td>2016-06-10</td>\n",
              "      <td>NaN</td>\n",
              "      <td>1</td>\n",
              "      <td>108.8</td>\n",
              "      <td>31006</td>\n",
              "      <td>...</td>\n",
              "      <td>1.0</td>\n",
              "      <td>2009</td>\n",
              "      <td>1</td>\n",
              "      <td>6</td>\n",
              "      <td>0.222</td>\n",
              "      <td>1.0</td>\n",
              "      <td>0.0</td>\n",
              "      <td>1.0</td>\n",
              "      <td>3</td>\n",
              "      <td>54282.0</td>\n",
              "    </tr>\n",
              "    <tr>\n",
              "      <th>318848</th>\n",
              "      <td>https://bj.lianjia.com/chengjiao/BJYZ92324217....</td>\n",
              "      <td>BJYZ92324217</td>\n",
              "      <td>116.497256</td>\n",
              "      <td>39.804081</td>\n",
              "      <td>1111027380056</td>\n",
              "      <td>2016-06-05</td>\n",
              "      <td>1.0</td>\n",
              "      <td>2</td>\n",
              "      <td>359.0</td>\n",
              "      <td>35138</td>\n",
              "      <td>...</td>\n",
              "      <td>4.0</td>\n",
              "      <td>2000</td>\n",
              "      <td>3</td>\n",
              "      <td>6</td>\n",
              "      <td>0.500</td>\n",
              "      <td>1.0</td>\n",
              "      <td>1.0</td>\n",
              "      <td>0.0</td>\n",
              "      <td>3</td>\n",
              "      <td>46927.0</td>\n",
              "    </tr>\n",
              "    <tr>\n",
              "      <th>318849</th>\n",
              "      <td>https://bj.lianjia.com/chengjiao/BJYZ92333313....</td>\n",
              "      <td>BJYZ92333313</td>\n",
              "      <td>116.501794</td>\n",
              "      <td>39.799347</td>\n",
              "      <td>1111027377054</td>\n",
              "      <td>2016-06-12</td>\n",
              "      <td>NaN</td>\n",
              "      <td>4</td>\n",
              "      <td>720.0</td>\n",
              "      <td>40373</td>\n",
              "      <td>...</td>\n",
              "      <td>4.0</td>\n",
              "      <td>2003</td>\n",
              "      <td>4</td>\n",
              "      <td>2</td>\n",
              "      <td>0.500</td>\n",
              "      <td>0.0</td>\n",
              "      <td>1.0</td>\n",
              "      <td>0.0</td>\n",
              "      <td>3</td>\n",
              "      <td>54842.0</td>\n",
              "    </tr>\n",
              "    <tr>\n",
              "      <th>318850</th>\n",
              "      <td>https://bj.lianjia.com/chengjiao/BJYZ92363553....</td>\n",
              "      <td>BJYZ92363553</td>\n",
              "      <td>116.497474</td>\n",
              "      <td>39.810115</td>\n",
              "      <td>1111027377957</td>\n",
              "      <td>2016-06-11</td>\n",
              "      <td>1.0</td>\n",
              "      <td>0</td>\n",
              "      <td>450.0</td>\n",
              "      <td>48675</td>\n",
              "      <td>...</td>\n",
              "      <td>4.0</td>\n",
              "      <td>未知</td>\n",
              "      <td>4</td>\n",
              "      <td>6</td>\n",
              "      <td>1.000</td>\n",
              "      <td>1.0</td>\n",
              "      <td>0.0</td>\n",
              "      <td>1.0</td>\n",
              "      <td>3</td>\n",
              "      <td>54282.0</td>\n",
              "    </tr>\n",
              "  </tbody>\n",
              "</table>\n",
              "<p>318851 rows × 26 columns</p>\n",
              "</div>\n",
              "      <button class=\"colab-df-convert\" onclick=\"convertToInteractive('df-f8aea61d-fad9-4ec7-8700-9c99724832a7')\"\n",
              "              title=\"Convert this dataframe to an interactive table.\"\n",
              "              style=\"display:none;\">\n",
              "        \n",
              "  <svg xmlns=\"http://www.w3.org/2000/svg\" height=\"24px\"viewBox=\"0 0 24 24\"\n",
              "       width=\"24px\">\n",
              "    <path d=\"M0 0h24v24H0V0z\" fill=\"none\"/>\n",
              "    <path d=\"M18.56 5.44l.94 2.06.94-2.06 2.06-.94-2.06-.94-.94-2.06-.94 2.06-2.06.94zm-11 1L8.5 8.5l.94-2.06 2.06-.94-2.06-.94L8.5 2.5l-.94 2.06-2.06.94zm10 10l.94 2.06.94-2.06 2.06-.94-2.06-.94-.94-2.06-.94 2.06-2.06.94z\"/><path d=\"M17.41 7.96l-1.37-1.37c-.4-.4-.92-.59-1.43-.59-.52 0-1.04.2-1.43.59L10.3 9.45l-7.72 7.72c-.78.78-.78 2.05 0 2.83L4 21.41c.39.39.9.59 1.41.59.51 0 1.02-.2 1.41-.59l7.78-7.78 2.81-2.81c.8-.78.8-2.07 0-2.86zM5.41 20L4 18.59l7.72-7.72 1.47 1.35L5.41 20z\"/>\n",
              "  </svg>\n",
              "      </button>\n",
              "      \n",
              "  <style>\n",
              "    .colab-df-container {\n",
              "      display:flex;\n",
              "      flex-wrap:wrap;\n",
              "      gap: 12px;\n",
              "    }\n",
              "\n",
              "    .colab-df-convert {\n",
              "      background-color: #E8F0FE;\n",
              "      border: none;\n",
              "      border-radius: 50%;\n",
              "      cursor: pointer;\n",
              "      display: none;\n",
              "      fill: #1967D2;\n",
              "      height: 32px;\n",
              "      padding: 0 0 0 0;\n",
              "      width: 32px;\n",
              "    }\n",
              "\n",
              "    .colab-df-convert:hover {\n",
              "      background-color: #E2EBFA;\n",
              "      box-shadow: 0px 1px 2px rgba(60, 64, 67, 0.3), 0px 1px 3px 1px rgba(60, 64, 67, 0.15);\n",
              "      fill: #174EA6;\n",
              "    }\n",
              "\n",
              "    [theme=dark] .colab-df-convert {\n",
              "      background-color: #3B4455;\n",
              "      fill: #D2E3FC;\n",
              "    }\n",
              "\n",
              "    [theme=dark] .colab-df-convert:hover {\n",
              "      background-color: #434B5C;\n",
              "      box-shadow: 0px 1px 3px 1px rgba(0, 0, 0, 0.15);\n",
              "      filter: drop-shadow(0px 1px 2px rgba(0, 0, 0, 0.3));\n",
              "      fill: #FFFFFF;\n",
              "    }\n",
              "  </style>\n",
              "\n",
              "      <script>\n",
              "        const buttonEl =\n",
              "          document.querySelector('#df-f8aea61d-fad9-4ec7-8700-9c99724832a7 button.colab-df-convert');\n",
              "        buttonEl.style.display =\n",
              "          google.colab.kernel.accessAllowed ? 'block' : 'none';\n",
              "\n",
              "        async function convertToInteractive(key) {\n",
              "          const element = document.querySelector('#df-f8aea61d-fad9-4ec7-8700-9c99724832a7');\n",
              "          const dataTable =\n",
              "            await google.colab.kernel.invokeFunction('convertToInteractive',\n",
              "                                                     [key], {});\n",
              "          if (!dataTable) return;\n",
              "\n",
              "          const docLinkHtml = 'Like what you see? Visit the ' +\n",
              "            '<a target=\"_blank\" href=https://colab.research.google.com/notebooks/data_table.ipynb>data table notebook</a>'\n",
              "            + ' to learn more about interactive tables.';\n",
              "          element.innerHTML = '';\n",
              "          dataTable['output_type'] = 'display_data';\n",
              "          await google.colab.output.renderOutput(dataTable, element);\n",
              "          const docLink = document.createElement('div');\n",
              "          docLink.innerHTML = docLinkHtml;\n",
              "          element.appendChild(docLink);\n",
              "        }\n",
              "      </script>\n",
              "    </div>\n",
              "  </div>\n",
              "  "
            ]
          },
          "metadata": {},
          "execution_count": 190
        }
      ]
    },
    {
      "cell_type": "code",
      "source": [
        "df.describe()"
      ],
      "metadata": {
        "colab": {
          "base_uri": "https://localhost:8080/",
          "height": 364
        },
        "id": "jweDjTExAF-r",
        "outputId": "f390b0b0-98b9-4562-d453-be10b2f2bac2"
      },
      "execution_count": null,
      "outputs": [
        {
          "output_type": "execute_result",
          "data": {
            "text/plain": [
              "                 Lng            Lat           Cid            DOM  \\\n",
              "count  318851.000000  318851.000000  3.188510e+05  160874.000000   \n",
              "mean      116.418459      39.949591  1.129113e+12      28.822339   \n",
              "std         0.112054       0.091983  2.363447e+12      50.237343   \n",
              "min       116.072514      39.627030  1.111027e+12       1.000000   \n",
              "25%       116.344985      39.893200  1.111027e+12       1.000000   \n",
              "50%       116.416780      39.934527  1.111027e+12       6.000000   \n",
              "75%       116.477581      40.003018  1.111027e+12      37.000000   \n",
              "max       116.732378      40.252758  1.114620e+15    1677.000000   \n",
              "\n",
              "           followers     totalPrice          price         square  \\\n",
              "count  318851.000000  318851.000000  318851.000000  318851.000000   \n",
              "mean       16.731508     349.030201   43530.436379      83.240597   \n",
              "std        34.209185     230.780778   21709.024204      37.234661   \n",
              "min         0.000000       0.100000       1.000000       6.900000   \n",
              "25%         0.000000     205.000000   28050.000000      57.900000   \n",
              "50%         5.000000     294.000000   38737.000000      74.260000   \n",
              "75%        18.000000     425.500000   53819.500000      98.710000   \n",
              "max      1143.000000   18130.000000  156250.000000    1745.500000   \n",
              "\n",
              "             kitchen   buildingType  renovationCondition  buildingStructure  \\\n",
              "count  318851.000000  316830.000000        318851.000000      318851.000000   \n",
              "mean        0.994599       3.009790             2.606330           4.451026   \n",
              "std         0.109609       1.269857             1.311739           1.901753   \n",
              "min         0.000000       0.048000             0.000000           0.000000   \n",
              "25%         1.000000       1.000000             1.000000           2.000000   \n",
              "50%         1.000000       4.000000             3.000000           6.000000   \n",
              "75%         1.000000       4.000000             4.000000           6.000000   \n",
              "max         4.000000       4.000000             4.000000           6.000000   \n",
              "\n",
              "        ladderRatio       elevator  fiveYearsProperty         subway  \\\n",
              "count  3.188510e+05  318819.000000      318819.000000  318819.000000   \n",
              "mean   6.316486e+01       0.577055           0.645601       0.601112   \n",
              "std    2.506851e+04       0.494028           0.478331       0.489670   \n",
              "min    0.000000e+00       0.000000           0.000000       0.000000   \n",
              "25%    2.500000e-01       0.000000           0.000000       0.000000   \n",
              "50%    3.330000e-01       1.000000           1.000000       1.000000   \n",
              "75%    5.000000e-01       1.000000           1.000000       1.000000   \n",
              "max    1.000940e+07       1.000000           1.000000       1.000000   \n",
              "\n",
              "            district  communityAverage  \n",
              "count  318851.000000     318388.000000  \n",
              "mean        6.763564      63682.446305  \n",
              "std         2.812616      22329.215447  \n",
              "min         1.000000      10847.000000  \n",
              "25%         6.000000      46339.000000  \n",
              "50%         7.000000      59015.000000  \n",
              "75%         8.000000      75950.000000  \n",
              "max        13.000000     183109.000000  "
            ],
            "text/html": [
              "\n",
              "  <div id=\"df-0efe66e9-1815-4a08-9c5e-bd8fe9fe86da\">\n",
              "    <div class=\"colab-df-container\">\n",
              "      <div>\n",
              "<style scoped>\n",
              "    .dataframe tbody tr th:only-of-type {\n",
              "        vertical-align: middle;\n",
              "    }\n",
              "\n",
              "    .dataframe tbody tr th {\n",
              "        vertical-align: top;\n",
              "    }\n",
              "\n",
              "    .dataframe thead th {\n",
              "        text-align: right;\n",
              "    }\n",
              "</style>\n",
              "<table border=\"1\" class=\"dataframe\">\n",
              "  <thead>\n",
              "    <tr style=\"text-align: right;\">\n",
              "      <th></th>\n",
              "      <th>Lng</th>\n",
              "      <th>Lat</th>\n",
              "      <th>Cid</th>\n",
              "      <th>DOM</th>\n",
              "      <th>followers</th>\n",
              "      <th>totalPrice</th>\n",
              "      <th>price</th>\n",
              "      <th>square</th>\n",
              "      <th>kitchen</th>\n",
              "      <th>buildingType</th>\n",
              "      <th>renovationCondition</th>\n",
              "      <th>buildingStructure</th>\n",
              "      <th>ladderRatio</th>\n",
              "      <th>elevator</th>\n",
              "      <th>fiveYearsProperty</th>\n",
              "      <th>subway</th>\n",
              "      <th>district</th>\n",
              "      <th>communityAverage</th>\n",
              "    </tr>\n",
              "  </thead>\n",
              "  <tbody>\n",
              "    <tr>\n",
              "      <th>count</th>\n",
              "      <td>318851.000000</td>\n",
              "      <td>318851.000000</td>\n",
              "      <td>3.188510e+05</td>\n",
              "      <td>160874.000000</td>\n",
              "      <td>318851.000000</td>\n",
              "      <td>318851.000000</td>\n",
              "      <td>318851.000000</td>\n",
              "      <td>318851.000000</td>\n",
              "      <td>318851.000000</td>\n",
              "      <td>316830.000000</td>\n",
              "      <td>318851.000000</td>\n",
              "      <td>318851.000000</td>\n",
              "      <td>3.188510e+05</td>\n",
              "      <td>318819.000000</td>\n",
              "      <td>318819.000000</td>\n",
              "      <td>318819.000000</td>\n",
              "      <td>318851.000000</td>\n",
              "      <td>318388.000000</td>\n",
              "    </tr>\n",
              "    <tr>\n",
              "      <th>mean</th>\n",
              "      <td>116.418459</td>\n",
              "      <td>39.949591</td>\n",
              "      <td>1.129113e+12</td>\n",
              "      <td>28.822339</td>\n",
              "      <td>16.731508</td>\n",
              "      <td>349.030201</td>\n",
              "      <td>43530.436379</td>\n",
              "      <td>83.240597</td>\n",
              "      <td>0.994599</td>\n",
              "      <td>3.009790</td>\n",
              "      <td>2.606330</td>\n",
              "      <td>4.451026</td>\n",
              "      <td>6.316486e+01</td>\n",
              "      <td>0.577055</td>\n",
              "      <td>0.645601</td>\n",
              "      <td>0.601112</td>\n",
              "      <td>6.763564</td>\n",
              "      <td>63682.446305</td>\n",
              "    </tr>\n",
              "    <tr>\n",
              "      <th>std</th>\n",
              "      <td>0.112054</td>\n",
              "      <td>0.091983</td>\n",
              "      <td>2.363447e+12</td>\n",
              "      <td>50.237343</td>\n",
              "      <td>34.209185</td>\n",
              "      <td>230.780778</td>\n",
              "      <td>21709.024204</td>\n",
              "      <td>37.234661</td>\n",
              "      <td>0.109609</td>\n",
              "      <td>1.269857</td>\n",
              "      <td>1.311739</td>\n",
              "      <td>1.901753</td>\n",
              "      <td>2.506851e+04</td>\n",
              "      <td>0.494028</td>\n",
              "      <td>0.478331</td>\n",
              "      <td>0.489670</td>\n",
              "      <td>2.812616</td>\n",
              "      <td>22329.215447</td>\n",
              "    </tr>\n",
              "    <tr>\n",
              "      <th>min</th>\n",
              "      <td>116.072514</td>\n",
              "      <td>39.627030</td>\n",
              "      <td>1.111027e+12</td>\n",
              "      <td>1.000000</td>\n",
              "      <td>0.000000</td>\n",
              "      <td>0.100000</td>\n",
              "      <td>1.000000</td>\n",
              "      <td>6.900000</td>\n",
              "      <td>0.000000</td>\n",
              "      <td>0.048000</td>\n",
              "      <td>0.000000</td>\n",
              "      <td>0.000000</td>\n",
              "      <td>0.000000e+00</td>\n",
              "      <td>0.000000</td>\n",
              "      <td>0.000000</td>\n",
              "      <td>0.000000</td>\n",
              "      <td>1.000000</td>\n",
              "      <td>10847.000000</td>\n",
              "    </tr>\n",
              "    <tr>\n",
              "      <th>25%</th>\n",
              "      <td>116.344985</td>\n",
              "      <td>39.893200</td>\n",
              "      <td>1.111027e+12</td>\n",
              "      <td>1.000000</td>\n",
              "      <td>0.000000</td>\n",
              "      <td>205.000000</td>\n",
              "      <td>28050.000000</td>\n",
              "      <td>57.900000</td>\n",
              "      <td>1.000000</td>\n",
              "      <td>1.000000</td>\n",
              "      <td>1.000000</td>\n",
              "      <td>2.000000</td>\n",
              "      <td>2.500000e-01</td>\n",
              "      <td>0.000000</td>\n",
              "      <td>0.000000</td>\n",
              "      <td>0.000000</td>\n",
              "      <td>6.000000</td>\n",
              "      <td>46339.000000</td>\n",
              "    </tr>\n",
              "    <tr>\n",
              "      <th>50%</th>\n",
              "      <td>116.416780</td>\n",
              "      <td>39.934527</td>\n",
              "      <td>1.111027e+12</td>\n",
              "      <td>6.000000</td>\n",
              "      <td>5.000000</td>\n",
              "      <td>294.000000</td>\n",
              "      <td>38737.000000</td>\n",
              "      <td>74.260000</td>\n",
              "      <td>1.000000</td>\n",
              "      <td>4.000000</td>\n",
              "      <td>3.000000</td>\n",
              "      <td>6.000000</td>\n",
              "      <td>3.330000e-01</td>\n",
              "      <td>1.000000</td>\n",
              "      <td>1.000000</td>\n",
              "      <td>1.000000</td>\n",
              "      <td>7.000000</td>\n",
              "      <td>59015.000000</td>\n",
              "    </tr>\n",
              "    <tr>\n",
              "      <th>75%</th>\n",
              "      <td>116.477581</td>\n",
              "      <td>40.003018</td>\n",
              "      <td>1.111027e+12</td>\n",
              "      <td>37.000000</td>\n",
              "      <td>18.000000</td>\n",
              "      <td>425.500000</td>\n",
              "      <td>53819.500000</td>\n",
              "      <td>98.710000</td>\n",
              "      <td>1.000000</td>\n",
              "      <td>4.000000</td>\n",
              "      <td>4.000000</td>\n",
              "      <td>6.000000</td>\n",
              "      <td>5.000000e-01</td>\n",
              "      <td>1.000000</td>\n",
              "      <td>1.000000</td>\n",
              "      <td>1.000000</td>\n",
              "      <td>8.000000</td>\n",
              "      <td>75950.000000</td>\n",
              "    </tr>\n",
              "    <tr>\n",
              "      <th>max</th>\n",
              "      <td>116.732378</td>\n",
              "      <td>40.252758</td>\n",
              "      <td>1.114620e+15</td>\n",
              "      <td>1677.000000</td>\n",
              "      <td>1143.000000</td>\n",
              "      <td>18130.000000</td>\n",
              "      <td>156250.000000</td>\n",
              "      <td>1745.500000</td>\n",
              "      <td>4.000000</td>\n",
              "      <td>4.000000</td>\n",
              "      <td>4.000000</td>\n",
              "      <td>6.000000</td>\n",
              "      <td>1.000940e+07</td>\n",
              "      <td>1.000000</td>\n",
              "      <td>1.000000</td>\n",
              "      <td>1.000000</td>\n",
              "      <td>13.000000</td>\n",
              "      <td>183109.000000</td>\n",
              "    </tr>\n",
              "  </tbody>\n",
              "</table>\n",
              "</div>\n",
              "      <button class=\"colab-df-convert\" onclick=\"convertToInteractive('df-0efe66e9-1815-4a08-9c5e-bd8fe9fe86da')\"\n",
              "              title=\"Convert this dataframe to an interactive table.\"\n",
              "              style=\"display:none;\">\n",
              "        \n",
              "  <svg xmlns=\"http://www.w3.org/2000/svg\" height=\"24px\"viewBox=\"0 0 24 24\"\n",
              "       width=\"24px\">\n",
              "    <path d=\"M0 0h24v24H0V0z\" fill=\"none\"/>\n",
              "    <path d=\"M18.56 5.44l.94 2.06.94-2.06 2.06-.94-2.06-.94-.94-2.06-.94 2.06-2.06.94zm-11 1L8.5 8.5l.94-2.06 2.06-.94-2.06-.94L8.5 2.5l-.94 2.06-2.06.94zm10 10l.94 2.06.94-2.06 2.06-.94-2.06-.94-.94-2.06-.94 2.06-2.06.94z\"/><path d=\"M17.41 7.96l-1.37-1.37c-.4-.4-.92-.59-1.43-.59-.52 0-1.04.2-1.43.59L10.3 9.45l-7.72 7.72c-.78.78-.78 2.05 0 2.83L4 21.41c.39.39.9.59 1.41.59.51 0 1.02-.2 1.41-.59l7.78-7.78 2.81-2.81c.8-.78.8-2.07 0-2.86zM5.41 20L4 18.59l7.72-7.72 1.47 1.35L5.41 20z\"/>\n",
              "  </svg>\n",
              "      </button>\n",
              "      \n",
              "  <style>\n",
              "    .colab-df-container {\n",
              "      display:flex;\n",
              "      flex-wrap:wrap;\n",
              "      gap: 12px;\n",
              "    }\n",
              "\n",
              "    .colab-df-convert {\n",
              "      background-color: #E8F0FE;\n",
              "      border: none;\n",
              "      border-radius: 50%;\n",
              "      cursor: pointer;\n",
              "      display: none;\n",
              "      fill: #1967D2;\n",
              "      height: 32px;\n",
              "      padding: 0 0 0 0;\n",
              "      width: 32px;\n",
              "    }\n",
              "\n",
              "    .colab-df-convert:hover {\n",
              "      background-color: #E2EBFA;\n",
              "      box-shadow: 0px 1px 2px rgba(60, 64, 67, 0.3), 0px 1px 3px 1px rgba(60, 64, 67, 0.15);\n",
              "      fill: #174EA6;\n",
              "    }\n",
              "\n",
              "    [theme=dark] .colab-df-convert {\n",
              "      background-color: #3B4455;\n",
              "      fill: #D2E3FC;\n",
              "    }\n",
              "\n",
              "    [theme=dark] .colab-df-convert:hover {\n",
              "      background-color: #434B5C;\n",
              "      box-shadow: 0px 1px 3px 1px rgba(0, 0, 0, 0.15);\n",
              "      filter: drop-shadow(0px 1px 2px rgba(0, 0, 0, 0.3));\n",
              "      fill: #FFFFFF;\n",
              "    }\n",
              "  </style>\n",
              "\n",
              "      <script>\n",
              "        const buttonEl =\n",
              "          document.querySelector('#df-0efe66e9-1815-4a08-9c5e-bd8fe9fe86da button.colab-df-convert');\n",
              "        buttonEl.style.display =\n",
              "          google.colab.kernel.accessAllowed ? 'block' : 'none';\n",
              "\n",
              "        async function convertToInteractive(key) {\n",
              "          const element = document.querySelector('#df-0efe66e9-1815-4a08-9c5e-bd8fe9fe86da');\n",
              "          const dataTable =\n",
              "            await google.colab.kernel.invokeFunction('convertToInteractive',\n",
              "                                                     [key], {});\n",
              "          if (!dataTable) return;\n",
              "\n",
              "          const docLinkHtml = 'Like what you see? Visit the ' +\n",
              "            '<a target=\"_blank\" href=https://colab.research.google.com/notebooks/data_table.ipynb>data table notebook</a>'\n",
              "            + ' to learn more about interactive tables.';\n",
              "          element.innerHTML = '';\n",
              "          dataTable['output_type'] = 'display_data';\n",
              "          await google.colab.output.renderOutput(dataTable, element);\n",
              "          const docLink = document.createElement('div');\n",
              "          docLink.innerHTML = docLinkHtml;\n",
              "          element.appendChild(docLink);\n",
              "        }\n",
              "      </script>\n",
              "    </div>\n",
              "  </div>\n",
              "  "
            ]
          },
          "metadata": {},
          "execution_count": 191
        }
      ]
    },
    {
      "cell_type": "markdown",
      "source": [
        "# **2. Data cleaning**"
      ],
      "metadata": {
        "id": "q4hNcjlIEmSe"
      }
    },
    {
      "cell_type": "code",
      "source": [
        "#Observe whether the data type of each column is wrong\n",
        "df.dtypes"
      ],
      "metadata": {
        "colab": {
          "base_uri": "https://localhost:8080/"
        },
        "id": "uKlEMbF2Es2f",
        "outputId": "26695434-5d60-41cd-ddf3-c23848af8027"
      },
      "execution_count": null,
      "outputs": [
        {
          "output_type": "execute_result",
          "data": {
            "text/plain": [
              "url                     object\n",
              "id                      object\n",
              "Lng                    float64\n",
              "Lat                    float64\n",
              "Cid                      int64\n",
              "tradeTime               object\n",
              "DOM                    float64\n",
              "followers                int64\n",
              "totalPrice             float64\n",
              "price                    int64\n",
              "square                 float64\n",
              "livingRoom              object\n",
              "drawingRoom             object\n",
              "kitchen                  int64\n",
              "bathRoom                object\n",
              "floor                   object\n",
              "buildingType           float64\n",
              "constructionTime        object\n",
              "renovationCondition      int64\n",
              "buildingStructure        int64\n",
              "ladderRatio            float64\n",
              "elevator               float64\n",
              "fiveYearsProperty      float64\n",
              "subway                 float64\n",
              "district                 int64\n",
              "communityAverage       float64\n",
              "dtype: object"
            ]
          },
          "metadata": {},
          "execution_count": 192
        }
      ]
    },
    {
      "cell_type": "code",
      "source": [
        "# Create a new column that contains only integers\n",
        "df['integer_only'] = df['floor'].astype(str).str.extract('(\\d+)', expand=False).astype(np.float64)\n",
        "\n"
      ],
      "metadata": {
        "id": "lH-LPXIBKqsR"
      },
      "execution_count": null,
      "outputs": []
    },
    {
      "cell_type": "code",
      "source": [
        "#去除livingRoom中的异常数值，更改数据类型\n",
        "df=df.loc[df.livingRoom!='#NAME?',:]\n",
        "df.livingRoom=df.livingRoom.astype('int64')\n",
        "df.livingRoom.value_counts()"
      ],
      "metadata": {
        "colab": {
          "base_uri": "https://localhost:8080/"
        },
        "id": "b47jjzdmluBr",
        "outputId": "aa09ad25-6f1c-4205-c496-8513f866ada7"
      },
      "execution_count": null,
      "outputs": [
        {
          "output_type": "execute_result",
          "data": {
            "text/plain": [
              "2    77373\n",
              "1    38915\n",
              "3    32116\n",
              "4     3226\n",
              "5      506\n",
              "6      102\n",
              "7       19\n",
              "0        9\n",
              "Name: livingRoom, dtype: int64"
            ]
          },
          "metadata": {},
          "execution_count": 220
        }
      ]
    },
    {
      "cell_type": "code",
      "source": [
        "#统一drawingRoom,bathRoom的数据为整数\n",
        "df.drawingRoom=df.drawingRoom.astype('int64')\n",
        "df.bathRoom=df.bathRoom.astype('int64')"
      ],
      "metadata": {
        "id": "XGys8gf7lvbY"
      },
      "execution_count": null,
      "outputs": []
    },
    {
      "cell_type": "code",
      "source": [
        "#Observing the data types of each column, it is found that the data types of 'tradeTime', 'floor', and 'constructionTime' are wrong, which need to be processed first\n",
        "##Extract the transaction year as a separate column:\n",
        "df = df.dropna()\n",
        "df['tradeyear']=df.tradeTime.astype(str).str[0:4]\n"
      ],
      "metadata": {
        "id": "ImxD9ffxE5_x",
        "colab": {
          "base_uri": "https://localhost:8080/"
        },
        "outputId": "c1fea72a-4995-4344-c18c-a498b2485d17"
      },
      "execution_count": null,
      "outputs": [
        {
          "output_type": "stream",
          "name": "stderr",
          "text": [
            "<ipython-input-194-58af46969b04>:4: SettingWithCopyWarning: \n",
            "A value is trying to be set on a copy of a slice from a DataFrame.\n",
            "Try using .loc[row_indexer,col_indexer] = value instead\n",
            "\n",
            "See the caveats in the documentation: https://pandas.pydata.org/pandas-docs/stable/user_guide/indexing.html#returning-a-view-versus-a-copy\n",
            "  df['tradeyear']=df.tradeTime.astype(str).str[0:4]\n"
          ]
        }
      ]
    },
    {
      "cell_type": "code",
      "source": [
        "#将'constructionTime'列中的未知项跳过,只考虑1950到2016年建成的房子:\n",
        "df = df.dropna()\n",
        "df.constructionTime=df.constructionTime.replace('未知','9999').astype('int64')\n",
        "df=df.loc[(df.constructionTime>=1950)&(df.constructionTime<=2016),:]"
      ],
      "metadata": {
        "id": "oXz69EQzKGQK"
      },
      "execution_count": null,
      "outputs": []
    },
    {
      "cell_type": "code",
      "source": [
        "df.head()\n"
      ],
      "metadata": {
        "colab": {
          "base_uri": "https://localhost:8080/",
          "height": 386
        },
        "id": "bbpqLsjFKZQk",
        "outputId": "16a978ab-f7e5-4fc8-cd09-088a33500642"
      },
      "execution_count": null,
      "outputs": [
        {
          "output_type": "execute_result",
          "data": {
            "text/plain": [
              "                                                 url            id  \\\n",
              "0  https://bj.lianjia.com/chengjiao/101084782030....  101084782030   \n",
              "1  https://bj.lianjia.com/chengjiao/101086012217....  101086012217   \n",
              "2  https://bj.lianjia.com/chengjiao/101086041636....  101086041636   \n",
              "3  https://bj.lianjia.com/chengjiao/101086406841....  101086406841   \n",
              "4  https://bj.lianjia.com/chengjiao/101086920653....  101086920653   \n",
              "\n",
              "          Lng        Lat            Cid   tradeTime     DOM  followers  \\\n",
              "0  116.475489  40.019520  1111027376244  2016-08-09  1464.0        106   \n",
              "1  116.453917  39.881534  1111027381879  2016-07-28   903.0        126   \n",
              "2  116.561978  39.877145  1111040862969  2016-12-11  1271.0         48   \n",
              "3  116.438010  40.076114  1111043185817  2016-09-30   965.0        138   \n",
              "4  116.428392  39.886229  1111027381174  2016-08-28   927.0        286   \n",
              "\n",
              "   totalPrice  price  ...  renovationCondition  buildingStructure  \\\n",
              "0       415.0  31680  ...                    3                  6   \n",
              "1       575.0  43436  ...                    4                  6   \n",
              "2      1030.0  52021  ...                    3                  6   \n",
              "3       297.5  22202  ...                    1                  6   \n",
              "4       392.0  48396  ...                    2                  2   \n",
              "\n",
              "   ladderRatio  elevator  fiveYearsProperty subway  district  \\\n",
              "0        0.217       1.0                0.0    1.0         7   \n",
              "1        0.667       1.0                1.0    0.0         7   \n",
              "2        0.500       1.0                0.0    0.0         7   \n",
              "3        0.273       1.0                0.0    0.0         6   \n",
              "4        0.333       0.0                1.0    1.0         1   \n",
              "\n",
              "   communityAverage  integer_only  tradeyear  \n",
              "0           56021.0          26.0       2016  \n",
              "1           71539.0          22.0       2016  \n",
              "2           48160.0           4.0       2016  \n",
              "3           51238.0          21.0       2016  \n",
              "4           62588.0           6.0       2016  \n",
              "\n",
              "[5 rows x 28 columns]"
            ],
            "text/html": [
              "\n",
              "  <div id=\"df-ed09d59b-de66-4028-97f8-94df48dc744b\">\n",
              "    <div class=\"colab-df-container\">\n",
              "      <div>\n",
              "<style scoped>\n",
              "    .dataframe tbody tr th:only-of-type {\n",
              "        vertical-align: middle;\n",
              "    }\n",
              "\n",
              "    .dataframe tbody tr th {\n",
              "        vertical-align: top;\n",
              "    }\n",
              "\n",
              "    .dataframe thead th {\n",
              "        text-align: right;\n",
              "    }\n",
              "</style>\n",
              "<table border=\"1\" class=\"dataframe\">\n",
              "  <thead>\n",
              "    <tr style=\"text-align: right;\">\n",
              "      <th></th>\n",
              "      <th>url</th>\n",
              "      <th>id</th>\n",
              "      <th>Lng</th>\n",
              "      <th>Lat</th>\n",
              "      <th>Cid</th>\n",
              "      <th>tradeTime</th>\n",
              "      <th>DOM</th>\n",
              "      <th>followers</th>\n",
              "      <th>totalPrice</th>\n",
              "      <th>price</th>\n",
              "      <th>...</th>\n",
              "      <th>renovationCondition</th>\n",
              "      <th>buildingStructure</th>\n",
              "      <th>ladderRatio</th>\n",
              "      <th>elevator</th>\n",
              "      <th>fiveYearsProperty</th>\n",
              "      <th>subway</th>\n",
              "      <th>district</th>\n",
              "      <th>communityAverage</th>\n",
              "      <th>integer_only</th>\n",
              "      <th>tradeyear</th>\n",
              "    </tr>\n",
              "  </thead>\n",
              "  <tbody>\n",
              "    <tr>\n",
              "      <th>0</th>\n",
              "      <td>https://bj.lianjia.com/chengjiao/101084782030....</td>\n",
              "      <td>101084782030</td>\n",
              "      <td>116.475489</td>\n",
              "      <td>40.019520</td>\n",
              "      <td>1111027376244</td>\n",
              "      <td>2016-08-09</td>\n",
              "      <td>1464.0</td>\n",
              "      <td>106</td>\n",
              "      <td>415.0</td>\n",
              "      <td>31680</td>\n",
              "      <td>...</td>\n",
              "      <td>3</td>\n",
              "      <td>6</td>\n",
              "      <td>0.217</td>\n",
              "      <td>1.0</td>\n",
              "      <td>0.0</td>\n",
              "      <td>1.0</td>\n",
              "      <td>7</td>\n",
              "      <td>56021.0</td>\n",
              "      <td>26.0</td>\n",
              "      <td>2016</td>\n",
              "    </tr>\n",
              "    <tr>\n",
              "      <th>1</th>\n",
              "      <td>https://bj.lianjia.com/chengjiao/101086012217....</td>\n",
              "      <td>101086012217</td>\n",
              "      <td>116.453917</td>\n",
              "      <td>39.881534</td>\n",
              "      <td>1111027381879</td>\n",
              "      <td>2016-07-28</td>\n",
              "      <td>903.0</td>\n",
              "      <td>126</td>\n",
              "      <td>575.0</td>\n",
              "      <td>43436</td>\n",
              "      <td>...</td>\n",
              "      <td>4</td>\n",
              "      <td>6</td>\n",
              "      <td>0.667</td>\n",
              "      <td>1.0</td>\n",
              "      <td>1.0</td>\n",
              "      <td>0.0</td>\n",
              "      <td>7</td>\n",
              "      <td>71539.0</td>\n",
              "      <td>22.0</td>\n",
              "      <td>2016</td>\n",
              "    </tr>\n",
              "    <tr>\n",
              "      <th>2</th>\n",
              "      <td>https://bj.lianjia.com/chengjiao/101086041636....</td>\n",
              "      <td>101086041636</td>\n",
              "      <td>116.561978</td>\n",
              "      <td>39.877145</td>\n",
              "      <td>1111040862969</td>\n",
              "      <td>2016-12-11</td>\n",
              "      <td>1271.0</td>\n",
              "      <td>48</td>\n",
              "      <td>1030.0</td>\n",
              "      <td>52021</td>\n",
              "      <td>...</td>\n",
              "      <td>3</td>\n",
              "      <td>6</td>\n",
              "      <td>0.500</td>\n",
              "      <td>1.0</td>\n",
              "      <td>0.0</td>\n",
              "      <td>0.0</td>\n",
              "      <td>7</td>\n",
              "      <td>48160.0</td>\n",
              "      <td>4.0</td>\n",
              "      <td>2016</td>\n",
              "    </tr>\n",
              "    <tr>\n",
              "      <th>3</th>\n",
              "      <td>https://bj.lianjia.com/chengjiao/101086406841....</td>\n",
              "      <td>101086406841</td>\n",
              "      <td>116.438010</td>\n",
              "      <td>40.076114</td>\n",
              "      <td>1111043185817</td>\n",
              "      <td>2016-09-30</td>\n",
              "      <td>965.0</td>\n",
              "      <td>138</td>\n",
              "      <td>297.5</td>\n",
              "      <td>22202</td>\n",
              "      <td>...</td>\n",
              "      <td>1</td>\n",
              "      <td>6</td>\n",
              "      <td>0.273</td>\n",
              "      <td>1.0</td>\n",
              "      <td>0.0</td>\n",
              "      <td>0.0</td>\n",
              "      <td>6</td>\n",
              "      <td>51238.0</td>\n",
              "      <td>21.0</td>\n",
              "      <td>2016</td>\n",
              "    </tr>\n",
              "    <tr>\n",
              "      <th>4</th>\n",
              "      <td>https://bj.lianjia.com/chengjiao/101086920653....</td>\n",
              "      <td>101086920653</td>\n",
              "      <td>116.428392</td>\n",
              "      <td>39.886229</td>\n",
              "      <td>1111027381174</td>\n",
              "      <td>2016-08-28</td>\n",
              "      <td>927.0</td>\n",
              "      <td>286</td>\n",
              "      <td>392.0</td>\n",
              "      <td>48396</td>\n",
              "      <td>...</td>\n",
              "      <td>2</td>\n",
              "      <td>2</td>\n",
              "      <td>0.333</td>\n",
              "      <td>0.0</td>\n",
              "      <td>1.0</td>\n",
              "      <td>1.0</td>\n",
              "      <td>1</td>\n",
              "      <td>62588.0</td>\n",
              "      <td>6.0</td>\n",
              "      <td>2016</td>\n",
              "    </tr>\n",
              "  </tbody>\n",
              "</table>\n",
              "<p>5 rows × 28 columns</p>\n",
              "</div>\n",
              "      <button class=\"colab-df-convert\" onclick=\"convertToInteractive('df-ed09d59b-de66-4028-97f8-94df48dc744b')\"\n",
              "              title=\"Convert this dataframe to an interactive table.\"\n",
              "              style=\"display:none;\">\n",
              "        \n",
              "  <svg xmlns=\"http://www.w3.org/2000/svg\" height=\"24px\"viewBox=\"0 0 24 24\"\n",
              "       width=\"24px\">\n",
              "    <path d=\"M0 0h24v24H0V0z\" fill=\"none\"/>\n",
              "    <path d=\"M18.56 5.44l.94 2.06.94-2.06 2.06-.94-2.06-.94-.94-2.06-.94 2.06-2.06.94zm-11 1L8.5 8.5l.94-2.06 2.06-.94-2.06-.94L8.5 2.5l-.94 2.06-2.06.94zm10 10l.94 2.06.94-2.06 2.06-.94-2.06-.94-.94-2.06-.94 2.06-2.06.94z\"/><path d=\"M17.41 7.96l-1.37-1.37c-.4-.4-.92-.59-1.43-.59-.52 0-1.04.2-1.43.59L10.3 9.45l-7.72 7.72c-.78.78-.78 2.05 0 2.83L4 21.41c.39.39.9.59 1.41.59.51 0 1.02-.2 1.41-.59l7.78-7.78 2.81-2.81c.8-.78.8-2.07 0-2.86zM5.41 20L4 18.59l7.72-7.72 1.47 1.35L5.41 20z\"/>\n",
              "  </svg>\n",
              "      </button>\n",
              "      \n",
              "  <style>\n",
              "    .colab-df-container {\n",
              "      display:flex;\n",
              "      flex-wrap:wrap;\n",
              "      gap: 12px;\n",
              "    }\n",
              "\n",
              "    .colab-df-convert {\n",
              "      background-color: #E8F0FE;\n",
              "      border: none;\n",
              "      border-radius: 50%;\n",
              "      cursor: pointer;\n",
              "      display: none;\n",
              "      fill: #1967D2;\n",
              "      height: 32px;\n",
              "      padding: 0 0 0 0;\n",
              "      width: 32px;\n",
              "    }\n",
              "\n",
              "    .colab-df-convert:hover {\n",
              "      background-color: #E2EBFA;\n",
              "      box-shadow: 0px 1px 2px rgba(60, 64, 67, 0.3), 0px 1px 3px 1px rgba(60, 64, 67, 0.15);\n",
              "      fill: #174EA6;\n",
              "    }\n",
              "\n",
              "    [theme=dark] .colab-df-convert {\n",
              "      background-color: #3B4455;\n",
              "      fill: #D2E3FC;\n",
              "    }\n",
              "\n",
              "    [theme=dark] .colab-df-convert:hover {\n",
              "      background-color: #434B5C;\n",
              "      box-shadow: 0px 1px 3px 1px rgba(0, 0, 0, 0.15);\n",
              "      filter: drop-shadow(0px 1px 2px rgba(0, 0, 0, 0.3));\n",
              "      fill: #FFFFFF;\n",
              "    }\n",
              "  </style>\n",
              "\n",
              "      <script>\n",
              "        const buttonEl =\n",
              "          document.querySelector('#df-ed09d59b-de66-4028-97f8-94df48dc744b button.colab-df-convert');\n",
              "        buttonEl.style.display =\n",
              "          google.colab.kernel.accessAllowed ? 'block' : 'none';\n",
              "\n",
              "        async function convertToInteractive(key) {\n",
              "          const element = document.querySelector('#df-ed09d59b-de66-4028-97f8-94df48dc744b');\n",
              "          const dataTable =\n",
              "            await google.colab.kernel.invokeFunction('convertToInteractive',\n",
              "                                                     [key], {});\n",
              "          if (!dataTable) return;\n",
              "\n",
              "          const docLinkHtml = 'Like what you see? Visit the ' +\n",
              "            '<a target=\"_blank\" href=https://colab.research.google.com/notebooks/data_table.ipynb>data table notebook</a>'\n",
              "            + ' to learn more about interactive tables.';\n",
              "          element.innerHTML = '';\n",
              "          dataTable['output_type'] = 'display_data';\n",
              "          await google.colab.output.renderOutput(dataTable, element);\n",
              "          const docLink = document.createElement('div');\n",
              "          docLink.innerHTML = docLinkHtml;\n",
              "          element.appendChild(docLink);\n",
              "        }\n",
              "      </script>\n",
              "    </div>\n",
              "  </div>\n",
              "  "
            ]
          },
          "metadata": {},
          "execution_count": 222
        }
      ]
    },
    {
      "cell_type": "markdown",
      "source": [
        "# **3. The average price trend in Beijing over the years:**"
      ],
      "metadata": {
        "id": "hAVf4TXjKlW7"
      }
    },
    {
      "cell_type": "code",
      "source": [
        "df_year=df.groupby('tradeyear').price.mean()\n",
        "sns.lineplot(data=df_year)"
      ],
      "metadata": {
        "colab": {
          "base_uri": "https://localhost:8080/",
          "height": 301
        },
        "id": "P9RL7ZYMKvNV",
        "outputId": "7ac5cccd-06bf-424f-f92b-3eb79689c578"
      },
      "execution_count": null,
      "outputs": [
        {
          "output_type": "execute_result",
          "data": {
            "text/plain": [
              "<matplotlib.axes._subplots.AxesSubplot at 0x7fe975e8a190>"
            ]
          },
          "metadata": {},
          "execution_count": 197
        },
        {
          "output_type": "display_data",
          "data": {
            "text/plain": [
              "<Figure size 432x288 with 1 Axes>"
            ],
            "image/png": "[encoded data removed]"
          },
          "metadata": {
            "needs_background": "light"
          }
        }
      ]
    },
    {
      "cell_type": "markdown",
      "source": [
        "From this figure, the average price in Beijing has been rising from 2016 to 2017."
      ],
      "metadata": {
        "id": "lobA66E9Lovt"
      }
    },
    {
      "cell_type": "markdown",
      "source": [
        "# **4. The influence of location on house transaction price**"
      ],
      "metadata": {
        "id": "BglHPigoM5Jb"
      }
    },
    {
      "cell_type": "code",
      "source": [
        "##Look at the number of transaction records in the database over the years, and find that the transaction records in 2016 are the most complete.\n",
        "df.tradeyear.value_counts()"
      ],
      "metadata": {
        "colab": {
          "base_uri": "https://localhost:8080/"
        },
        "id": "vitGd0HVNUAl",
        "outputId": "b85c729b-db00-456c-e95d-aa015fdf28c5"
      },
      "execution_count": null,
      "outputs": [
        {
          "output_type": "execute_result",
          "data": {
            "text/plain": [
              "2016    64098\n",
              "2017    42009\n",
              "2015    27366\n",
              "2013     7043\n",
              "2012     5584\n",
              "2014     4899\n",
              "2011      871\n",
              "2018      219\n",
              "2010      177\n",
              "Name: tradeyear, dtype: int64"
            ]
          },
          "metadata": {},
          "execution_count": 198
        }
      ]
    },
    {
      "cell_type": "code",
      "source": [
        "df_2016=df.loc[df.tradeyear=='2016',:]"
      ],
      "metadata": {
        "id": "8F5BcHXAONfl"
      },
      "execution_count": null,
      "outputs": []
    },
    {
      "cell_type": "code",
      "source": [
        "plt.figure(figsize=(5,5))\n",
        "sns.scatterplot(x=df_2016['Lng'],y=df_2016['Lat'],hue=df_2016['price'])"
      ],
      "metadata": {
        "colab": {
          "base_uri": "https://localhost:8080/",
          "height": 352
        },
        "id": "q4XjP3c5OTiL",
        "outputId": "38833142-cbb3-4f16-a739-fe0b6794d0df"
      },
      "execution_count": null,
      "outputs": [
        {
          "output_type": "execute_result",
          "data": {
            "text/plain": [
              "<matplotlib.axes._subplots.AxesSubplot at 0x7fe9763a13a0>"
            ]
          },
          "metadata": {},
          "execution_count": 199
        },
        {
          "output_type": "display_data",
          "data": {
            "text/plain": [
              "<Figure size 360x360 with 1 Axes>"
            ],
            "image/png": "[encoded data removed]"
          },
          "metadata": {
            "needs_background": "light"
          }
        }
      ]
    },
    {
      "cell_type": "markdown",
      "source": [
        "Looking at the distribution of the core areas of Beijing (radiating out from Tiananmen Square), the average price in concentrated areas exceeds 75000.In the entire area, the houses of average price with 25,000 are the most."
      ],
      "metadata": {
        "id": "0AbylK-pOdEX"
      }
    },
    {
      "cell_type": "markdown",
      "source": [
        "# **5. The distribution of room type, room age, area and decoration**"
      ],
      "metadata": {
        "id": "2QJnqGMYQkdA"
      }
    },
    {
      "cell_type": "code",
      "source": [
        "sns.distplot(a=df_2016['square'],kde=False)"
      ],
      "metadata": {
        "colab": {
          "base_uri": "https://localhost:8080/",
          "height": 353
        },
        "id": "Aj7Vqr0rQwwu",
        "outputId": "94330a0e-5c2b-49b6-8953-cb3a8014afcc"
      },
      "execution_count": null,
      "outputs": [
        {
          "output_type": "stream",
          "name": "stderr",
          "text": [
            "/usr/local/lib/python3.8/dist-packages/seaborn/distributions.py:2619: FutureWarning: `distplot` is a deprecated function and will be removed in a future version. Please adapt your code to use either `displot` (a figure-level function with similar flexibility) or `histplot` (an axes-level function for histograms).\n",
            "  warnings.warn(msg, FutureWarning)\n"
          ]
        },
        {
          "output_type": "execute_result",
          "data": {
            "text/plain": [
              "<matplotlib.axes._subplots.AxesSubplot at 0x7fe971ae34f0>"
            ]
          },
          "metadata": {},
          "execution_count": 200
        },
        {
          "output_type": "display_data",
          "data": {
            "text/plain": [
              "<Figure size 432x288 with 1 Axes>"
            ],
            "image/png": "[encoded data removed]"
          },
          "metadata": {
            "needs_background": "light"
          }
        }
      ]
    },
    {
      "cell_type": "markdown",
      "source": [
        "The picture shows that the housing area of Beijingers is 70 to 80. It can be inferred that the residents’ economy and income do not support buying a particularly large house and most people choose a small house."
      ],
      "metadata": {
        "id": "a5nV7Kk1RGUK"
      }
    },
    {
      "cell_type": "code",
      "source": [
        "sns.scatterplot(x=df_2016['square'],y=df_2016['followers'])"
      ],
      "metadata": {
        "colab": {
          "base_uri": "https://localhost:8080/",
          "height": 297
        },
        "id": "WLhaM_OyTjTI",
        "outputId": "dae3420b-2734-4daa-d25e-d1ccf8de020c"
      },
      "execution_count": null,
      "outputs": [
        {
          "output_type": "execute_result",
          "data": {
            "text/plain": [
              "<matplotlib.axes._subplots.AxesSubplot at 0x7fe971d5e7c0>"
            ]
          },
          "metadata": {},
          "execution_count": 201
        },
        {
          "output_type": "display_data",
          "data": {
            "text/plain": [
              "<Figure size 432x288 with 1 Axes>"
            ],
            "image/png": "[encoded data removed]"
          },
          "metadata": {
            "needs_background": "light"
          }
        }
      ]
    },
    {
      "cell_type": "markdown",
      "source": [
        "It can be seen that most of the second-hand houses on the market are small units of 50 to 100 square meters, accounting for more than half of the total. Moreover, the houses that receive the highest attention are also distributed in the 1-100 square meters."
      ],
      "metadata": {
        "id": "JebLL8G5TwG0"
      }
    },
    {
      "cell_type": "code",
      "source": [
        "sns.distplot(a=df_2016['livingRoom'],kde=False,label='livingRoom_Num')\n",
        "sns.distplot(a=df_2016['bathRoom'],kde=False,label='bathRoom_Num')\n",
        "plt.xlabel('Room_Num')\n",
        "plt.ylabel('Qty')\n",
        "plt.legend()"
      ],
      "metadata": {
        "colab": {
          "base_uri": "https://localhost:8080/",
          "height": 354
        },
        "id": "8BRFwSthTxP5",
        "outputId": "748e46f9-3ac5-47e1-f829-87aa55336561"
      },
      "execution_count": null,
      "outputs": [
        {
          "output_type": "stream",
          "name": "stderr",
          "text": [
            "/usr/local/lib/python3.8/dist-packages/seaborn/distributions.py:2619: FutureWarning: `distplot` is a deprecated function and will be removed in a future version. Please adapt your code to use either `displot` (a figure-level function with similar flexibility) or `histplot` (an axes-level function for histograms).\n",
            "  warnings.warn(msg, FutureWarning)\n"
          ]
        },
        {
          "output_type": "execute_result",
          "data": {
            "text/plain": [
              "<matplotlib.legend.Legend at 0x7fe971b18af0>"
            ]
          },
          "metadata": {},
          "execution_count": 202
        },
        {
          "output_type": "display_data",
          "data": {
            "text/plain": [
              "<Figure size 432x288 with 1 Axes>"
            ],
            "image/png": "[encoded data removed]"
          },
          "metadata": {
            "needs_background": "light"
          }
        }
      ]
    },
    {
      "cell_type": "markdown",
      "source": [
        "It can be seen that the number of two-livingroom/one-bathroom units is the largest, and the number of livingrooms is basically 1 to 3 rooms."
      ],
      "metadata": {
        "id": "TntvN4LiVJTo"
      }
    },
    {
      "cell_type": "code",
      "source": [
        "livingRoom_Num=df_2016.groupby('livingRoom').price.mean()\n",
        "sns.barplot(x=livingRoom_Num.index,y=livingRoom_Num)"
      ],
      "metadata": {
        "colab": {
          "base_uri": "https://localhost:8080/",
          "height": 297
        },
        "id": "WFIzIqBMVjna",
        "outputId": "ecfe0703-cd73-41f3-849b-77b48191c03c"
      },
      "execution_count": null,
      "outputs": [
        {
          "output_type": "execute_result",
          "data": {
            "text/plain": [
              "<matplotlib.axes._subplots.AxesSubplot at 0x7fe976289df0>"
            ]
          },
          "metadata": {},
          "execution_count": 203
        },
        {
          "output_type": "display_data",
          "data": {
            "text/plain": [
              "<Figure size 432x288 with 1 Axes>"
            ],
            "image/png": "[encoded data removed]"
          },
          "metadata": {
            "needs_background": "light"
          }
        }
      ]
    },
    {
      "cell_type": "markdown",
      "source": [
        "By comparing the average transaction price of houses with different numbers of bedrooms, it is found that the average price of 1-3 bedrooms is slightly higher than that of other apartment types."
      ],
      "metadata": {
        "id": "_KiCAmGAWFcE"
      }
    },
    {
      "cell_type": "code",
      "source": [
        "sns.distplot(a=df_2016['constructionTime'],kde=False)"
      ],
      "metadata": {
        "colab": {
          "base_uri": "https://localhost:8080/",
          "height": 353
        },
        "id": "hGoB43SMWNVz",
        "outputId": "bd469870-a039-464b-930d-656b289f90a6"
      },
      "execution_count": null,
      "outputs": [
        {
          "output_type": "stream",
          "name": "stderr",
          "text": [
            "/usr/local/lib/python3.8/dist-packages/seaborn/distributions.py:2619: FutureWarning: `distplot` is a deprecated function and will be removed in a future version. Please adapt your code to use either `displot` (a figure-level function with similar flexibility) or `histplot` (an axes-level function for histograms).\n",
            "  warnings.warn(msg, FutureWarning)\n"
          ]
        },
        {
          "output_type": "execute_result",
          "data": {
            "text/plain": [
              "<matplotlib.axes._subplots.AxesSubplot at 0x7fe9764c6880>"
            ]
          },
          "metadata": {},
          "execution_count": 204
        },
        {
          "output_type": "display_data",
          "data": {
            "text/plain": [
              "<Figure size 432x288 with 1 Axes>"
            ],
            "image/png": "[encoded data removed]"
          },
          "metadata": {
            "needs_background": "light"
          }
        }
      ]
    },
    {
      "cell_type": "markdown",
      "source": [
        "The construction years of the houses are mainly distributed around 1980 to the present.Most built from 2000 to 2005."
      ],
      "metadata": {
        "id": "LMbzHUVFWZDs"
      }
    },
    {
      "cell_type": "code",
      "source": [
        "plt.figure(figsize=(30,3))\n",
        "ConstructionTime_price=df_2016.groupby('constructionTime').price.mean()\n",
        "sns.barplot(x=ConstructionTime_price.index,y=ConstructionTime_price)"
      ],
      "metadata": {
        "colab": {
          "base_uri": "https://localhost:8080/",
          "height": 218
        },
        "id": "sczjWkUsWqRa",
        "outputId": "153446ba-9352-49c8-eaef-832e34665747"
      },
      "execution_count": null,
      "outputs": [
        {
          "output_type": "execute_result",
          "data": {
            "text/plain": [
              "<matplotlib.axes._subplots.AxesSubplot at 0x7fe976370c70>"
            ]
          },
          "metadata": {},
          "execution_count": 156
        },
        {
          "output_type": "display_data",
          "data": {
            "text/plain": [
              "<Figure size 2160x216 with 1 Axes>"
            ],
            "image/png": "[encoded data removed]"
          },
          "metadata": {
            "needs_background": "light"
          }
        }
      ]
    },
    {
      "cell_type": "markdown",
      "source": [
        "By comparing the average transaction price of different house ages year by year (the year of completion is the horizontal axis), it is found that the average house price has little relationship with the age of the house, and even a high house age is accompanied by a high price. The analysis may be due to Beijing Historic houses are especially scarce due to (pictured above)."
      ],
      "metadata": {
        "id": "rhpl7ucSXR43"
      }
    },
    {
      "cell_type": "markdown",
      "source": [
        "# **5. Forecast of housing prices in Beijing:**"
      ],
      "metadata": {
        "id": "clNSYm0MXb59"
      }
    },
    {
      "cell_type": "code",
      "source": [
        "#Divide the database into algorithm training samples and fitting detection samples:\n",
        "df_2016_filtered=df_2016.dropna(axis=0)\n",
        "y=df_2016_filtered.price\n",
        "Predict_features=['Lng','Lat','Cid','livingRoom','bathRoom','constructionTime','buildingType','renovationCondition','subway']\n",
        "X=df_2016_filtered[Predict_features]\n",
        "from sklearn.model_selection import train_test_split\n",
        "train_X, val_X, train_y, val_y = train_test_split(X, y,random_state = 0)"
      ],
      "metadata": {
        "id": "EJf0l1tQX8Ja"
      },
      "execution_count": null,
      "outputs": []
    },
    {
      "cell_type": "code",
      "source": [
        "#In order to avoid the situation of over-fitting or under-fitting of the algorithm, the algorithm is defined to check the decision tree model, and the optimal algorithm parameters have been found:\n",
        "def get_mae(max_leaf_nodes,train_X,train_y):\n",
        "    model=DecisionTreeRegressor(max_leaf_nodes=max_leaf_nodes,random_state=0)\n",
        "    model.fit(train_X,train_y)\n",
        "    pred_val=model.predict(val_X)\n",
        "    mae=mean_absolute_error(pred_val,val_y)\n",
        "    return(mae)"
      ],
      "metadata": {
        "id": "cfLsCtUfYjfr"
      },
      "execution_count": null,
      "outputs": []
    },
    {
      "cell_type": "code",
      "source": [
        "for max_leaf_nodes in [500,1000,2000,3000,5000]:\n",
        "    my_mae=get_mae(max_leaf_nodes,train_X,train_y)\n",
        "    print(\"Max_leaf_nodes:%d \\t Mean absolute error:%d\"%(max_leaf_nodes,my_mae))"
      ],
      "metadata": {
        "colab": {
          "base_uri": "https://localhost:8080/"
        },
        "id": "fRlr-X4-Yxzk",
        "outputId": "53b1147a-c2cc-4a1d-8298-201e0259222d"
      },
      "execution_count": null,
      "outputs": [
        {
          "output_type": "stream",
          "name": "stdout",
          "text": [
            "Max_leaf_nodes:500 \t Mean absolute error:5089\n",
            "Max_leaf_nodes:1000 \t Mean absolute error:4875\n",
            "Max_leaf_nodes:2000 \t Mean absolute error:4822\n",
            "Max_leaf_nodes:3000 \t Mean absolute error:4903\n",
            "Max_leaf_nodes:5000 \t Mean absolute error:4998\n"
          ]
        }
      ]
    },
    {
      "cell_type": "markdown",
      "source": [
        "It can be seen from the above results that when the number of decision tree nodes is 2000, the fitting result error is the smallest: the final result fitting is as follows:"
      ],
      "metadata": {
        "id": "Pk-OLunBY4E_"
      }
    },
    {
      "cell_type": "code",
      "source": [
        "final_model=DecisionTreeRegressor(max_leaf_nodes=2000,random_state=1)\n",
        "final_model.fit(X,y)\n",
        "final_pred=final_model.predict(X)\n",
        "final_mae=mean_absolute_error(final_pred,y)\n",
        "print(final_mae)"
      ],
      "metadata": {
        "colab": {
          "base_uri": "https://localhost:8080/"
        },
        "id": "DwQ4EY8TY86o",
        "outputId": "e61ba19e-7e71-4873-a9a5-8b6243a411b8"
      },
      "execution_count": null,
      "outputs": [
        {
          "output_type": "stream",
          "name": "stdout",
          "text": [
            "3147.2684437782063\n"
          ]
        }
      ]
    },
    {
      "cell_type": "markdown",
      "source": [
        "According to this algorithm, the average error between the predicted house price and the actual house price in 2016 is 3147 yuan."
      ],
      "metadata": {
        "id": "gmWkSXKJZRP8"
      }
    },
    {
      "cell_type": "markdown",
      "source": [
        "# **6.conclusion**"
      ],
      "metadata": {
        "id": "RN8fdhCMZXBT"
      }
    },
    {
      "cell_type": "markdown",
      "source": [
        "This case studies the concentration trend of house type structure/house age/area/suburban time and its impact on the transaction price by using the Beijing Lianjia second-hand house database.As time goes by, house prices in Beijing continue to rise. The closer to the center, the more expensive the housing price. The houses are mainly two bedrooms and one bathroom, and the living area is mainly 70 to 80. The average price of 1-3 bedrooms is slightly higher than that of other apartment types."
      ],
      "metadata": {
        "id": "EJJgFatjZql8"
      }
    },
    {
      "cell_type": "markdown",
      "source": [
        "# **7.references**"
      ],
      "metadata": {
        "id": "dLxI_tl8xY_e"
      }
    },
    {
      "cell_type": "markdown",
      "source": [
        "S. Borde, A. Rane, G. Shende, and S. Shetty, “Real estate investment advising using machine learning,” International Research Journal of Engineering and Technology (IRJET), vol. 4, no. 3, p. 1821, 2017.\n",
        "\n",
        "B. Trawinski, Z. Telec, J. Krasnoborski et al., “Comparison of expert algorithms with machine learning models for real estate appraisal,” in Proceedings of the 2017 IEEE International Conference on INnovations in Intelligent SysTems and Applications (INISTA), Gdynia, Poland, July 2017.\n",
        "\n",
        "V. Kontrimas and A. Verikas, “The mass appraisal of the real estate by computational intelligence,” Applied Soft Computing, vol. 11, no. 1, pp. 443–448, 2011.\n",
        "\n",
        "M. Woźniak, M. Graña, and E. Corchado, “A survey of multiple classifier systems as hybrid systems,” Information Fusion, vol. 16, pp. 3–17, 2014.\n",
        "\n",
        "J. R. Barr, E. A. Ellis, A. Kassab, C. L. Redfearn, N. N. Srinivasan, and K. B. Voris, “Home price index: a machine learning methodology,” International Journal of Semantic Computing, vol. 11, no. 1, pp. 111–133, 2017.\n",
        "\n",
        "W. J. McCluskey, M. McCord, P. T. Davis, M. Haran, and D. McIlhatton, “Prediction accuracy in mass appraisal: a comparison of modern approaches,” Journal of Property Research, vol. 30, no. 4, pp. 239–265, 2013.\n",
        "\n",
        "S. Rosen, “Hedonic prices and implicit markets: product differentiation in pure competition,” Journal of Political Economy, vol. 82, no. 1, pp. 34–55, 1974.\n",
        "\n",
        "E. Lughofer, B. Trawiński, K. Trawiński, O. Kempa, and T. Lasota, “On employing fuzzy modeling algorithms for the valuation of residential premises,” Information Sciences, vol. 181, no. 23, pp. 5123–5142, 2011.\n",
        "\n",
        "H. Kusan, O. Aytekin, and I. Özdemir, “The use of fuzzy logic in predicting house selling price,” Expert Systems with Applications, vol. 37, no. 3, pp. 1808–1813, 2010.\n",
        "\n",
        "O. Bin, “A prediction comparison of housing sales prices by parametric versus semi-parametric regressions,” Journal of Housing Economics, vol. 13, no. 1, pp. 68–84, 2004.\n",
        "\n",
        "Y. Kang, F. Zhang, W. Peng et al., “Understanding house price appreciation using multi-source big geo-data and machine learning,” Land Use Policy, vol. 2020, Article ID 104919, 2020.\n",
        "\n",
        "A. Din, M. Hoesli, and A. Bender, “Environmental variables and real estate prices,” Urban Studies, vol. 38, no. 11, pp. 1989–2000, 2001.\n",
        "\n",
        "J.-G. Liu, X.-L. Zhang, and W.-P. Wu, “Application of fuzzy neural network for real estate prediction,” Advances in Neural Networks - ISNN 2006, vol. 3973, pp. 1187–1191, 2006.\n",
        "\n",
        "I. V. Lokshina, M. D. Hammerslag, and R. C. Insinga, “Applications of artifificial intelligence methods for real estate valuation and decision support,” in Proceedings of the In Hawaii international conference on business, Honolulu, Hawaii, USA, January 2003.\n",
        "\n",
        "J. Hauke and T. Kossowski, “Comparison of values of Pearson’s and Spearman’s correlation coefficients on the same sets of data,” QUAGEO, vol. 30, no. 2, pp. 87–93, 2011.\n",
        "\n",
        "T. Oladunni and S. Sharma, “Hedonic housing theory - a machine learning investigation,” in Proceedings of the 2016 15th IEEE International Conference on Machine Learning and Applications (ICMLA), Anaheim, CA, USA, December 2016.\n",
        "\n",
        "L. Petrella and V. Raponi, “Joint estimation of conditional quantiles in multivariate linear regression models with an application to financial distress,” Journal of Multivariate Analysis, vol. 173, pp. 70–84, 2019.\n",
        "\n",
        "G. Soffritti and G. Galimberti, “Multivariate linear regression with non-normal errors: a solution based on mixture models,” Statistics and Computing, vol. 21, no. 4, pp. 523–536, 2010.\n",
        "\n"
      ],
      "metadata": {
        "id": "8O_BTYwHxftd"
      }
    },
    {
      "cell_type": "code",
      "source": [
        "# Create an empty dictionary to store student names and scores\n",
        "students = {}\n",
        "\n",
        "# Keep getting student names and scores until \"done\" is entered\n",
        "while True:\n",
        "    name = input(\"Enter student name (or 'done' to finish): \")\n",
        "    if name == \"done\":\n",
        "        break\n",
        "    # Get the current scores for the student, or an empty dictionary if they don't have any scores yet\n",
        "    students[name] = students.get(name, {})\n",
        "    subject = input(\"Enter subject name: \")\n",
        "    score = float(input(\"Enter exam score: \"))\n",
        "    # Add the score for the subject for the student\n",
        "    students[name][subject] = score\n",
        "\n",
        "# Get a list of all subjects for which scores have been entered\n",
        "subjects = set(subject for student in students.values() for subject in student)\n",
        "\n",
        "# Calculate the average scores for each subject\n",
        "averages = {}\n",
        "for subject in subjects:\n",
        "    scores = [student[subject] for student in students.values() if subject in student]\n",
        "    averages[subject] = sum(scores) / len(scores)\n",
        "\n",
        "# Find the highest scores for each subject\n",
        "highest = {}\n",
        "highest_students = {}\n",
        "for subject in subjects:\n",
        "    scores = [student[subject] for student in students.values() if subject in student]\n",
        "    highest[subject] = max(scores)\n",
        "    # Get the list of students who got the highest score for the subject\n",
        "    highest_students[subject] = [name for name, student_scores in students.items() if subject in student_scores and student_scores[subject] == highest[subject]]\n",
        "\n",
        "# Find the lowest scores for each subject\n",
        "lowest = {}\n",
        "lowest_students = {}\n",
        "for subject in subjects:\n",
        "    scores = [student[subject] for student in students.values() if subject in student]\n",
        "    lowest[subject] = min(scores)\n",
        "    # Get the list of students who got the lowest score for the subject\n",
        "    lowest_students[subject] = [name for name, student_scores in students.items() if subject in student_scores and student_scores[subject] == lowest[subject]]\n",
        "\n",
        "# Print the average scores for each subject\n",
        "print(\"Average scores:\")\n",
        "for subject, average in averages.items():\n",
        "    print(\"{}: {}\".format(subject, average))\n",
        "\n",
        "# Print the highest scores for each subject and the students who got them\n",
        "print(\"\\nHighest scores:\")\n",
        "for subject, score in highest.items():\n",
        "    print(\"{}: {} by {}\".format(subject, score, ', '.join(highest_students[subject])))\n",
        "\n",
        "# Print the lowest scores for each subject and the students who got them\n",
        "print(\"\\nLowest scores:\")\n",
        "for subject, score in lowest.items():\n",
        "    print(\"{}: {} by {}\".format(subject, score, ', '.join(lowest_students[subject])))\n",
        "\n",
        "# Print the scores for each student for each subject\n",
        "print(\"\\nScore Summary:\")\n",
        "for student, scores in students.items():\n",
        "    print(\"{}:\".format(student))\n",
        "    for subject, score in scores.items():\n",
        "        print(\"    {}: {}\".format(subject, score))"
      ],
      "metadata": {
        "id": "LHqyr_GmWW5L"
      },
      "execution_count": null,
      "outputs": []
    },
    {
      "cell_type": "code",
      "source": [
        "import pandas as pd\n",
        "import numpy as np\n",
        "\n",
        "# Create a list to store the names of the subjects\n",
        "subjects = []\n",
        "\n",
        "# Get the names of the subjects\n",
        "while True:\n",
        "    subject = input(\"Enter the name of the subject (or 'q' to quit): \")\n",
        "    if subject == 'q':\n",
        "        break\n",
        "    subjects.append(subject)\n",
        "\n",
        "# Create a dictionary to store the scores for each student\n",
        "student_scores = {}\n",
        "\n",
        "# Get the names of the students and their scores for each subject\n",
        "for subject in subjects:\n",
        "    print(\"\\nEnter scores for\", subject)\n",
        "    while True:\n",
        "        student = input(\"Enter the name of the student (or 'q' to quit): \")\n",
        "        if student == 'q':\n",
        "            break\n",
        "        score = float(input(\"Enter the score for {}: \".format(student)))\n",
        "        if student not in student_scores:\n",
        "            student_scores[student] = {}\n",
        "        student_scores[student][subject] = score\n",
        "\n",
        "# Create a dataframe to store the scores for each student\n",
        "df = pd.DataFrame.from_dict(student_scores, orient='index')\n",
        "\n",
        "# Print the average scores for all students for each subject\n",
        "print(\"\\nAverage score:\")\n",
        "print(df.mean())\n",
        "\n",
        "# Print the highest and lowest scores for each subject\n",
        "print(\"\\nHighest score:\")\n",
        "for subject in subjects:\n",
        "    highest = df[subject].idxmax()\n",
        "    print(\"Subject:\", subject, \"Student:\", highest, \"Score:\", df.at[highest, subject])\n",
        "\n",
        "print(\"\\nLowest score:\")\n",
        "for subject in subjects:\n",
        "    lowest = df[subject].idxmin()\n",
        "    print(\"Subject:\", subject, \"Student:\", lowest, \"Score:\", df.at[lowest, subject])\n",
        "\n",
        "# Print the overall table of scores\n",
        "print(\"\\nTable of scores:\")\n",
        "print(df)\n"
      ],
      "metadata": {
        "colab": {
          "base_uri": "https://localhost:8080/"
        },
        "id": "FFySn5M4YNM7",
        "outputId": "fff97633-7e47-4f8b-80a6-40f1cd014a87"
      },
      "execution_count": null,
      "outputs": [
        {
          "output_type": "stream",
          "name": "stdout",
          "text": [
            "Enter the name of the subject (or 'q' to quit): math\n",
            "Enter the name of the subject (or 'q' to quit): q\n",
            "\n",
            "Enter scores for math\n",
            "Enter the name of the student (or 'q' to quit): ahy\n",
            "Enter the score for ahy: 98\n",
            "Enter the name of the student (or 'q' to quit): weq\n",
            "Enter the score for weq: 97\n",
            "Enter the name of the student (or 'q' to quit): q\n",
            "\n",
            "Average score:\n",
            "math    97.5\n",
            "dtype: float64\n",
            "\n",
            "Highest score:\n",
            "Subject: math Student: ahy Score: 98.0\n",
            "\n",
            "Lowest score:\n",
            "Subject: math Student: weq Score: 97.0\n",
            "\n",
            "Table of scores:\n",
            "     math\n",
            "ahy  98.0\n",
            "weq  97.0\n"
          ]
        }
      ]
    },
    {
      "cell_type": "code",
      "source": [
        "import pandas as pd\n",
        "import numpy as np"
      ],
      "metadata": {
        "id": "JWvTIRN7p48l"
      },
      "execution_count": null,
      "outputs": []
    },
    {
      "cell_type": "code",
      "source": [],
      "metadata": {
        "id": "4tJCOpsltSwN"
      },
      "execution_count": null,
      "outputs": []
    },
    {
      "cell_type": "code",
      "source": [
        "df=pd.DataFrame({\"\":[\"adam\",\"nafisah\"],\n",
        "         \"weightbefore\":[89,70],\n",
        "         \"weightafter\":[85,66]})\n",
        "df\n",
        "df[\"wl\"]=df[\"weightbefore\"]-df[\"weightafter\"]\n",
        "df"
      ],
      "metadata": {
        "colab": {
          "base_uri": "https://localhost:8080/",
          "height": 112
        },
        "id": "a3XJ83UjqOte",
        "outputId": "389b6eb9-f7c9-4955-ff24-2fcabc49175a"
      },
      "execution_count": null,
      "outputs": [
        {
          "output_type": "execute_result",
          "data": {
            "text/plain": [
              "            weightbefore  weightafter  wl\n",
              "0     adam            89           85   4\n",
              "1  nafisah            70           66   4"
            ],
            "text/html": [
              "\n",
              "  <div id=\"df-9a991a7d-09e3-4332-b022-75e2d6c6a6b1\">\n",
              "    <div class=\"colab-df-container\">\n",
              "      <div>\n",
              "<style scoped>\n",
              "    .dataframe tbody tr th:only-of-type {\n",
              "        vertical-align: middle;\n",
              "    }\n",
              "\n",
              "    .dataframe tbody tr th {\n",
              "        vertical-align: top;\n",
              "    }\n",
              "\n",
              "    .dataframe thead th {\n",
              "        text-align: right;\n",
              "    }\n",
              "</style>\n",
              "<table border=\"1\" class=\"dataframe\">\n",
              "  <thead>\n",
              "    <tr style=\"text-align: right;\">\n",
              "      <th></th>\n",
              "      <th></th>\n",
              "      <th>weightbefore</th>\n",
              "      <th>weightafter</th>\n",
              "      <th>wl</th>\n",
              "    </tr>\n",
              "  </thead>\n",
              "  <tbody>\n",
              "    <tr>\n",
              "      <th>0</th>\n",
              "      <td>adam</td>\n",
              "      <td>89</td>\n",
              "      <td>85</td>\n",
              "      <td>4</td>\n",
              "    </tr>\n",
              "    <tr>\n",
              "      <th>1</th>\n",
              "      <td>nafisah</td>\n",
              "      <td>70</td>\n",
              "      <td>66</td>\n",
              "      <td>4</td>\n",
              "    </tr>\n",
              "  </tbody>\n",
              "</table>\n",
              "</div>\n",
              "      <button class=\"colab-df-convert\" onclick=\"convertToInteractive('df-9a991a7d-09e3-4332-b022-75e2d6c6a6b1')\"\n",
              "              title=\"Convert this dataframe to an interactive table.\"\n",
              "              style=\"display:none;\">\n",
              "        \n",
              "  <svg xmlns=\"http://www.w3.org/2000/svg\" height=\"24px\"viewBox=\"0 0 24 24\"\n",
              "       width=\"24px\">\n",
              "    <path d=\"M0 0h24v24H0V0z\" fill=\"none\"/>\n",
              "    <path d=\"M18.56 5.44l.94 2.06.94-2.06 2.06-.94-2.06-.94-.94-2.06-.94 2.06-2.06.94zm-11 1L8.5 8.5l.94-2.06 2.06-.94-2.06-.94L8.5 2.5l-.94 2.06-2.06.94zm10 10l.94 2.06.94-2.06 2.06-.94-2.06-.94-.94-2.06-.94 2.06-2.06.94z\"/><path d=\"M17.41 7.96l-1.37-1.37c-.4-.4-.92-.59-1.43-.59-.52 0-1.04.2-1.43.59L10.3 9.45l-7.72 7.72c-.78.78-.78 2.05 0 2.83L4 21.41c.39.39.9.59 1.41.59.51 0 1.02-.2 1.41-.59l7.78-7.78 2.81-2.81c.8-.78.8-2.07 0-2.86zM5.41 20L4 18.59l7.72-7.72 1.47 1.35L5.41 20z\"/>\n",
              "  </svg>\n",
              "      </button>\n",
              "      \n",
              "  <style>\n",
              "    .colab-df-container {\n",
              "      display:flex;\n",
              "      flex-wrap:wrap;\n",
              "      gap: 12px;\n",
              "    }\n",
              "\n",
              "    .colab-df-convert {\n",
              "      background-color: #E8F0FE;\n",
              "      border: none;\n",
              "      border-radius: 50%;\n",
              "      cursor: pointer;\n",
              "      display: none;\n",
              "      fill: #1967D2;\n",
              "      height: 32px;\n",
              "      padding: 0 0 0 0;\n",
              "      width: 32px;\n",
              "    }\n",
              "\n",
              "    .colab-df-convert:hover {\n",
              "      background-color: #E2EBFA;\n",
              "      box-shadow: 0px 1px 2px rgba(60, 64, 67, 0.3), 0px 1px 3px 1px rgba(60, 64, 67, 0.15);\n",
              "      fill: #174EA6;\n",
              "    }\n",
              "\n",
              "    [theme=dark] .colab-df-convert {\n",
              "      background-color: #3B4455;\n",
              "      fill: #D2E3FC;\n",
              "    }\n",
              "\n",
              "    [theme=dark] .colab-df-convert:hover {\n",
              "      background-color: #434B5C;\n",
              "      box-shadow: 0px 1px 3px 1px rgba(0, 0, 0, 0.15);\n",
              "      filter: drop-shadow(0px 1px 2px rgba(0, 0, 0, 0.3));\n",
              "      fill: #FFFFFF;\n",
              "    }\n",
              "  </style>\n",
              "\n",
              "      <script>\n",
              "        const buttonEl =\n",
              "          document.querySelector('#df-9a991a7d-09e3-4332-b022-75e2d6c6a6b1 button.colab-df-convert');\n",
              "        buttonEl.style.display =\n",
              "          google.colab.kernel.accessAllowed ? 'block' : 'none';\n",
              "\n",
              "        async function convertToInteractive(key) {\n",
              "          const element = document.querySelector('#df-9a991a7d-09e3-4332-b022-75e2d6c6a6b1');\n",
              "          const dataTable =\n",
              "            await google.colab.kernel.invokeFunction('convertToInteractive',\n",
              "                                                     [key], {});\n",
              "          if (!dataTable) return;\n",
              "\n",
              "          const docLinkHtml = 'Like what you see? Visit the ' +\n",
              "            '<a target=\"_blank\" href=https://colab.research.google.com/notebooks/data_table.ipynb>data table notebook</a>'\n",
              "            + ' to learn more about interactive tables.';\n",
              "          element.innerHTML = '';\n",
              "          dataTable['output_type'] = 'display_data';\n",
              "          await google.colab.output.renderOutput(dataTable, element);\n",
              "          const docLink = document.createElement('div');\n",
              "          docLink.innerHTML = docLinkHtml;\n",
              "          element.appendChild(docLink);\n",
              "        }\n",
              "      </script>\n",
              "    </div>\n",
              "  </div>\n",
              "  "
            ]
          },
          "metadata": {},
          "execution_count": 16
        }
      ]
    }
  ]
}